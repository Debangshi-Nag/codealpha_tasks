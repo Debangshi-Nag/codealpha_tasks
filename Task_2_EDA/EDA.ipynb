import pandas as pd

# Load dataset (use path from Colab file upload)
df = pd.read_csv('/content/books.csv')

# 🔍 Dataset overview
print("🔹 Shape of data:", df.shape)
print("🔹 Columns:", df.columns)
print("\n🔹 Data types:\n", df.dtypes)

# 💡 Cleaning Price
df['Price'] = df['Price'].replace('£', '', regex=True)
df['Price'] = pd.to_numeric(df['Price'], errors='coerce')  # Safer conversion

# 📈 Summary statistics
print("\n🔹 Summary statistics:\n", df.describe())

# ❗ Null values
print("\n🔹 Missing values:\n", df.isnull().sum())

# 🔁 Duplicate entries
print("\n🔹 Duplicate entries:", df.duplicated().sum())

# 📚 Top 5 expensive books
print("\n🔹 Top 5 most expensive books:\n", df.sort_values(by='Price', ascending=False).head(5))

