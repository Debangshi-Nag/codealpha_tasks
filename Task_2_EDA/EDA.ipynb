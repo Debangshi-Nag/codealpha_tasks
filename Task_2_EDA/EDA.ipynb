{
  "nbformat": 4,
  "nbformat_minor": 0,
  "metadata": {
    "colab": {
      "provenance": []
    },
    "kernelspec": {
      "name": "python3",
      "display_name": "Python 3"
    },
    "language_info": {
      "name": "python"
    }
  },
  "cells": [
    {
      "cell_type": "code",
      "source": [
        "import pandas as pd\n",
        "\n",
        "# Load dataset (use path from Colab file upload)\n",
        "df = pd.read_csv('/content/books.csv')\n",
        "\n",
        "# 🔍 Dataset overview\n",
        "print(\"🔹 Shape of data:\", df.shape)\n",
        "print(\"🔹 Columns:\", df.columns)\n",
        "print(\"\\n🔹 Data types:\\n\", df.dtypes)\n",
        "\n",
        "# 💡 Cleaning Price\n",
        "df['Price'] = df['Price'].replace('£', '', regex=True)\n",
        "df['Price'] = pd.to_numeric(df['Price'], errors='coerce')  # Safer conversion\n",
        "\n",
        "# 📈 Summary statistics\n",
        "print(\"\\n🔹 Summary statistics:\\n\", df.describe())\n",
        "\n",
        "# ❗ Null values\n",
        "print(\"\\n🔹 Missing values:\\n\", df.isnull().sum())\n",
        "\n",
        "# 🔁 Duplicate entries\n",
        "print(\"\\n🔹 Duplicate entries:\", df.duplicated().sum())\n",
        "\n",
        "# 📚 Top 5 expensive books\n",
        "print(\"\\n🔹 Top 5 most expensive books:\\n\", df.sort_values(by='Price', ascending=False).head(5))\n"
      ],
      "metadata": {
        "colab": {
          "base_uri": "https://localhost:8080/"
        },
        "id": "zz-pzAvNuSeX",
        "outputId": "f5386a0b-088d-4f6e-b73b-01faf39105e8"
      },
      "execution_count": 2,
      "outputs": [
        {
          "output_type": "stream",
          "name": "stdout",
          "text": [
            "🔹 Shape of data: (20, 2)\n",
            "🔹 Columns: Index(['Title', 'Price'], dtype='object')\n",
            "\n",
            "🔹 Data types:\n",
            " Title    object\n",
            "Price    object\n",
            "dtype: object\n",
            "\n",
            "🔹 Summary statistics:\n",
            "        Price\n",
            "count    0.0\n",
            "mean     NaN\n",
            "std      NaN\n",
            "min      NaN\n",
            "25%      NaN\n",
            "50%      NaN\n",
            "75%      NaN\n",
            "max      NaN\n",
            "\n",
            "🔹 Missing values:\n",
            " Title     0\n",
            "Price    20\n",
            "dtype: int64\n",
            "\n",
            "🔹 Duplicate entries: 0\n",
            "\n",
            "🔹 Top 5 most expensive books:\n",
            "                                    Title  Price\n",
            "0                   A Light in the Attic    NaN\n",
            "1                     Tipping the Velvet    NaN\n",
            "2                             Soumission    NaN\n",
            "3                          Sharp Objects    NaN\n",
            "4  Sapiens: A Brief History of Humankind    NaN\n"
          ]
        }
      ]
    }
  ]
}