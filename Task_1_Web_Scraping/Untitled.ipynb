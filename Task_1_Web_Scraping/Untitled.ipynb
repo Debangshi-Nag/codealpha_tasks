{
  "nbformat": 4,
  "nbformat_minor": 0,
  "metadata": {
    "colab": {
      "provenance": []
    },
    "kernelspec": {
      "name": "python3",
      "display_name": "Python 3"
    },
    "language_info": {
      "name": "python"
    }
  },
  "cells": [
    {
      "cell_type": "code",
      "execution_count": 1,
      "metadata": {
        "colab": {
          "base_uri": "https://localhost:8080/"
        },
        "id": "9583hl0nDJRy",
        "outputId": "a45c6dce-f63d-4986-b823-f04d14b14246"
      },
      "outputs": [
        {
          "output_type": "stream",
          "name": "stdout",
          "text": [
            "Scraping done. CSV created.\n"
          ]
        }
      ],
      "source": [
        "import requests\n",
        "from bs4 import BeautifulSoup\n",
        "import csv\n",
        "\n",
        "# Step 1: Fetch the page\n",
        "url = \"http://books.toscrape.com/\"\n",
        "response = requests.get(url)\n",
        "soup = BeautifulSoup(response.text, 'html.parser')\n",
        "\n",
        "# Step 2: Parse book data\n",
        "books = soup.find_all('article', class_='product_pod')\n",
        "\n",
        "# Step 3: Save to CSV\n",
        "with open('books.csv', 'w', newline='', encoding='utf-8') as file:\n",
        "    writer = csv.writer(file)\n",
        "    writer.writerow(['Title', 'Price'])\n",
        "    for book in books:\n",
        "        title = book.h3.a['title']\n",
        "        price = book.find('p', class_='price_color').text\n",
        "        writer.writerow([title, price])\n",
        "\n",
        "print(\"Scraping done. CSV created.\")\n"
      ]
    }
  ]
}
